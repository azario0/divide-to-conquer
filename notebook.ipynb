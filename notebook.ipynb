{
  "cells": [
    {
      "cell_type": "markdown",
      "metadata": {
        "id": "view-in-github",
        "colab_type": "text"
      },
      "source": [
        "<a href=\"https://colab.research.google.com/github/azario0/divide-to-conquer/blob/main/notebook.ipynb\" target=\"_parent\"><img src=\"https://colab.research.google.com/assets/colab-badge.svg\" alt=\"Open In Colab\"/></a>"
      ]
    },
    {
      "cell_type": "markdown",
      "metadata": {
        "id": "keVSq1yw4U9s"
      },
      "source": [
        "# Divide and Conquer\n",
        "Presented by Benmalek Zohir"
      ]
    },
    {
      "cell_type": "markdown",
      "metadata": {
        "id": "xWkD2uKC4U9w"
      },
      "source": [
        "# What is divide and conquer:\n",
        "### Divide and conquer is a problem-solving strategy where you break a large problem into smaller, more manageable parts. <br>You solve each smaller part individually and then combine those solutions to solve the original problem. <br>This approach is particularly useful in computer science for creating efficient algorithms,<br> where breaking down tasks can significantly reduce complexity and processing time"
      ]
    },
    {
      "cell_type": "markdown",
      "metadata": {
        "id": "9voAD_934U9z"
      },
      "source": [
        "## Exemples"
      ]
    },
    {
      "cell_type": "markdown",
      "metadata": {
        "id": "lGL82DNk4U90"
      },
      "source": [
        "# Power naive\n",
        "Time Complexity: O(n) <br>\n",
        "Space Complexity: O(1)"
      ]
    },
    {
      "cell_type": "code",
      "execution_count": null,
      "metadata": {
        "id": "7E_mddzH4U91",
        "outputId": "95969a3e-80f6-4d15-a974-192394f53fba"
      },
      "outputs": [
        {
          "name": "stdout",
          "output_type": "stream",
          "text": [
            "2 to the power of 10 is 1024\n"
          ]
        }
      ],
      "source": [
        "def power_naive(x, n):\n",
        "    result = 1\n",
        "    for _ in range(n):\n",
        "        result *= x\n",
        "    return result\n",
        "\n",
        "# Example usage:\n",
        "x = 2\n",
        "n = 10\n",
        "print(f\"{x} to the power of {n} is {power_naive(x, n)}\")"
      ]
    },
    {
      "cell_type": "markdown",
      "metadata": {
        "id": "P4M_7UPa4U92"
      },
      "source": [
        "# Power devide and conquer\n",
        "Time Complexity: O(log n) <br>Space Complexity: O(1)"
      ]
    },
    {
      "cell_type": "code",
      "execution_count": null,
      "metadata": {
        "id": "B-0rg94O4U92",
        "outputId": "76991681-126b-43f4-a1ba-5de6f9860c0e"
      },
      "outputs": [
        {
          "name": "stdout",
          "output_type": "stream",
          "text": [
            "2 to the power of 10 is 1024\n"
          ]
        }
      ],
      "source": [
        "def power(x, n):\n",
        "    result = 1\n",
        "    current_power = x\n",
        "\n",
        "    while n > 0:\n",
        "        # If n is odd, multiply the current power to the result\n",
        "        if n % 2 == 1:\n",
        "            result *= current_power\n",
        "        # Square the current power for the next bit of n\n",
        "        current_power *= current_power\n",
        "        # Halve n (integer division)\n",
        "        n //= 2\n",
        "\n",
        "    return result\n",
        "\n",
        "# Example usage:\n",
        "x = 2\n",
        "n = 10\n",
        "print(f\"{x} to the power of {n} is {power(x, n)}\")\n"
      ]
    },
    {
      "cell_type": "markdown",
      "metadata": {
        "id": "Zb-jSouP4U92"
      },
      "source": [
        "# Search ordered list"
      ]
    },
    {
      "cell_type": "markdown",
      "metadata": {
        "id": "dhBF6IwZ4U93"
      },
      "source": [
        "# Naive approach\n",
        "Time Complexity: Worst Case: O(n)<br>\n",
        "Space Complexity : O(1)"
      ]
    },
    {
      "cell_type": "code",
      "execution_count": null,
      "metadata": {
        "id": "-JqTTk0t4U97"
      },
      "outputs": [],
      "source": [
        "def linear_search(arr, target):\n",
        "    for i in range(len(arr)):\n",
        "        if arr[i] == target:\n",
        "            return i  # Return the index of the target\n",
        "    return -1  # Return -1 if target is not found\n",
        "sorted_numbers = [1, 2, 3, 4, 5, 6, 7, 8, 9, 10]\n",
        "target = 7\n",
        "\n",
        "index = linear_search(sorted_numbers ,target)\n",
        "if index != -1:\n",
        "    print(f\"Found {target} at index {index}\")\n",
        "else:\n",
        "    print(f\"{target} not found in the list\")"
      ]
    },
    {
      "cell_type": "markdown",
      "metadata": {
        "id": "EVl025ak4U9-"
      },
      "source": [
        "# Divide and conquer approach\n",
        "Time Complexity : O(log ⁡n) <br>\n",
        "Space Complexity : O(1)"
      ]
    },
    {
      "cell_type": "code",
      "execution_count": null,
      "metadata": {
        "id": "2h_VMZc04U9_",
        "outputId": "9419b660-904b-4107-dd0e-63451a8594c5"
      },
      "outputs": [
        {
          "name": "stdout",
          "output_type": "stream",
          "text": [
            "Found 7 at index 6\n"
          ]
        }
      ],
      "source": [
        "def binary_search_iterative(arr,target):\n",
        "    low = 0\n",
        "    high = len(arr) - 1\n",
        "    while low <= high:\n",
        "        mid = (low + high) // 2\n",
        "        if arr[mid] == target:\n",
        "            return mid\n",
        "        elif arr[mid] > target:\n",
        "            high = mid - 1\n",
        "        else:\n",
        "            low = mid + 1\n",
        "    return -1\n",
        "# Example usage:\n",
        "\n",
        "index = binary_search_iterative(sorted_numbers ,target)\n",
        "if index != -1:\n",
        "    print(f\"Found {target} at index {index}\")\n",
        "else:\n",
        "    print(f\"{target} not found in the list\")"
      ]
    },
    {
      "cell_type": "code",
      "execution_count": null,
      "metadata": {
        "id": "jlb-oECC4U9_"
      },
      "outputs": [],
      "source": []
    }
  ],
  "metadata": {
    "kernelspec": {
      "display_name": "Python 3",
      "language": "python",
      "name": "python3"
    },
    "language_info": {
      "codemirror_mode": {
        "name": "ipython",
        "version": 3
      },
      "file_extension": ".py",
      "mimetype": "text/x-python",
      "name": "python",
      "nbconvert_exporter": "python",
      "pygments_lexer": "ipython3",
      "version": "3.10.12"
    },
    "colab": {
      "provenance": [],
      "include_colab_link": true
    }
  },
  "nbformat": 4,
  "nbformat_minor": 0
}