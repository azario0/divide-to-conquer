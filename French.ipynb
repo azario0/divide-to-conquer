{
  "cells": [
    {
      "cell_type": "markdown",
      "metadata": {
        "id": "view-in-github",
        "colab_type": "text"
      },
      "source": [
        "<a href=\"https://colab.research.google.com/github/azario0/divide-to-conquer/blob/main/French.ipynb\" target=\"_parent\"><img src=\"https://colab.research.google.com/assets/colab-badge.svg\" alt=\"Open In Colab\"/></a>"
      ]
    },
    {
      "cell_type": "markdown",
      "metadata": {
        "id": "HE8QZXVs3tzt"
      },
      "source": [
        "# Diviser pour régner\n",
        "Présenté par Benmalek Zohir"
      ]
    },
    {
      "cell_type": "markdown",
      "metadata": {
        "id": "VNZ3M88u3tzv"
      },
      "source": [
        "## Qu'est-ce que diviser pour régner ?\n",
        "#### Diviser pour régner est une stratégie de résolution de problèmes consistant à diviser un problème important en parties plus petites et gérables. <br>Chaque petite partie est résolue individuellement, puis les solutions sont combinées pour résoudre le problème original. <br>Cette approche est particulièrement utile en sciences informatiques pour créer des algorithmes efficaces, <br>où la division des tâches peut réduire significativement la complexité et le temps de traitement."
      ]
    },
    {
      "cell_type": "markdown",
      "metadata": {
        "id": "dhO_agb_3tzv"
      },
      "source": [
        "## Exemples\n",
        "# Calcule de puissance"
      ]
    },
    {
      "cell_type": "markdown",
      "metadata": {
        "id": "LupYo1AG3tzw"
      },
      "source": [
        "# Approche naive\n",
        "Complexité temporelle : O(n) <br>\n",
        "Complexité spatiale : O(1)"
      ]
    },
    {
      "cell_type": "code",
      "execution_count": null,
      "metadata": {
        "id": "suk2NBLm3tzx",
        "outputId": "3ecf157f-1fbd-4d76-93a1-c89ff2ec81b7"
      },
      "outputs": [
        {
          "name": "stdout",
          "output_type": "stream",
          "text": [
            "2 à la puissance de 10 est 1024\n"
          ]
        }
      ],
      "source": [
        "def power_naive(x, n):\n",
        "    result = 1\n",
        "    for _ in range(n):\n",
        "        result *= x\n",
        "    return result\n",
        "\n",
        "# Exemple d'utilisation :\n",
        "x = 2\n",
        "n = 10\n",
        "print(f\"{x} à la puissance de {n} est {power_naive(x, n)}\")"
      ]
    },
    {
      "cell_type": "markdown",
      "metadata": {
        "id": "GYdGwE5i3tzy"
      },
      "source": [
        "# Diviser pour régner\n",
        "Complexité temporelle : O(log n) <br>Complexité spatiale : O(1)"
      ]
    },
    {
      "cell_type": "code",
      "execution_count": null,
      "metadata": {
        "id": "LusfVdoT3tzy",
        "outputId": "37e79da3-145d-402e-937d-1a1bf57e991b"
      },
      "outputs": [
        {
          "name": "stdout",
          "output_type": "stream",
          "text": [
            "2 à la puissance de 10 est 1024\n"
          ]
        }
      ],
      "source": [
        "def power(x, n):\n",
        "    result = 1\n",
        "    current_power = x\n",
        "\n",
        "    while n > 0:\n",
        "        # Si n est impair, multiplie la puissance\n",
        "        # courante par le résultat\n",
        "        if n % 2 == 1:\n",
        "            result *= current_power\n",
        "        # Carré de la puissance courante pour le\n",
        "        # prochain bit de n\n",
        "        current_power *= current_power\n",
        "        # Division entière de n par 2\n",
        "        n //= 2\n",
        "\n",
        "    return result\n",
        "\n",
        "# Exemple d'utilisation :\n",
        "x = 2\n",
        "n = 10\n",
        "print(f\"{x} à la puissance de {n} est {power(x, n)}\")\n"
      ]
    },
    {
      "cell_type": "markdown",
      "metadata": {
        "id": "DAMlYFIG3tzz"
      },
      "source": [
        "# Recherche dans une liste triée"
      ]
    },
    {
      "cell_type": "markdown",
      "metadata": {
        "id": "5UzwZQ0y3tz0"
      },
      "source": [
        "# Approche naive\n",
        "Complexité temporelle : Pire cas : O(n)<br>\n",
        "Complexité spatiale : O(1)"
      ]
    },
    {
      "cell_type": "code",
      "execution_count": null,
      "metadata": {
        "id": "aJTDheId3tz1",
        "outputId": "db4975fd-f92a-4963-a462-5cccd1e76dcb"
      },
      "outputs": [
        {
          "name": "stdout",
          "output_type": "stream",
          "text": [
            "Trouvé 7 à l'indice 6\n"
          ]
        }
      ],
      "source": [
        "def linear_search(arr, target):\n",
        "    for i in range(len(arr)):\n",
        "        if arr[i] == target:\n",
        "            return i  # Renvoie l'indice de la cible\n",
        "    return -1  # Renvoie -1 si la cible n'est pas trouvée\n",
        "sorted_numbers = [1, 2, 3, 4, 5, 6, 7, 8, 9, 10]\n",
        "target = 7\n",
        "\n",
        "index = linear_search(sorted_numbers ,target)\n",
        "if index != -1:\n",
        "    print(f\"Trouvé {target} à l'indice {index}\")\n",
        "else:\n",
        "    print(f\"{target} non trouvé dans la liste\")"
      ]
    },
    {
      "cell_type": "markdown",
      "metadata": {
        "id": "b8FZ4BIt3tz2"
      },
      "source": [
        "# Diviser pour régner\n",
        "Complexité temporelle : O(log n) <br>\n",
        "Complexité spatiale : O(1)"
      ]
    },
    {
      "cell_type": "code",
      "execution_count": null,
      "metadata": {
        "id": "lqc5HpPG3tz2",
        "outputId": "27c6ee4a-0683-4268-a8a5-a672b1b8abf9"
      },
      "outputs": [
        {
          "name": "stdout",
          "output_type": "stream",
          "text": [
            "Trouvé 7 à l'indice 6\n"
          ]
        }
      ],
      "source": [
        "def binary_search_iterative(arr,target):\n",
        "    low = 0\n",
        "    high = len(arr) - 1\n",
        "    while low <= high:\n",
        "        mid = (low + high) // 2\n",
        "        if arr[mid] == target:\n",
        "            return mid\n",
        "        elif arr[mid] > target:\n",
        "            high = mid - 1\n",
        "        else:\n",
        "            low = mid + 1\n",
        "    return -1\n",
        "# Exemple d'utilisation:\n",
        "\n",
        "index = binary_search_iterative(sorted_numbers ,target)\n",
        "if index != -1:\n",
        "    print(f\"Trouvé {target} à l'indice {index}\")\n",
        "else:\n",
        "    print(f\"{target} non trouvé dans la liste\")"
      ]
    },
    {
      "cell_type": "code",
      "execution_count": null,
      "metadata": {
        "id": "ZSlhXOEb3tz3"
      },
      "outputs": [],
      "source": []
    }
  ],
  "metadata": {
    "kernelspec": {
      "display_name": "Python 3",
      "language": "python",
      "name": "python3"
    },
    "language_info": {
      "codemirror_mode": {
        "name": "ipython",
        "version": 3
      },
      "file_extension": ".py",
      "mimetype": "text/x-python",
      "name": "python",
      "nbconvert_exporter": "python",
      "pygments_lexer": "ipython3",
      "version": "3.10.12"
    },
    "colab": {
      "provenance": [],
      "include_colab_link": true
    }
  },
  "nbformat": 4,
  "nbformat_minor": 0
}